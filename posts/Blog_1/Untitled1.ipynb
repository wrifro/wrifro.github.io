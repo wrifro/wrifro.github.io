{
 "cells": [
  {
   "cell_type": "code",
   "execution_count": null,
   "id": "e7b7f5af-15a2-4bca-9ba9-86fdbb0d5a63",
   "metadata": {},
   "outputs": [],
   "source": [
    "import numpy as np\n",
    "\n",
    "def f(x):\n",
    "    return np.sin(x[0]*x[1])"
   ]
  },
  {
   "cell_type": "code",
   "execution_count": null,
   "id": "a44d19af-8f74-41a5-b6fb-7fc6c2edffa6",
   "metadata": {},
   "outputs": [],
   "source": [
    "def gradient(w1,w2):\n",
    "    (w2 * np.cos(w1 * w2),w1 * np.cos(w1 * w2))"
   ]
  }
 ],
 "metadata": {
  "kernelspec": {
   "display_name": "Python [conda env:ml-0451]",
   "language": "python",
   "name": "conda-env-ml-0451-py"
  },
  "language_info": {
   "codemirror_mode": {
    "name": "ipython",
    "version": 3
   },
   "file_extension": ".py",
   "mimetype": "text/x-python",
   "name": "python",
   "nbconvert_exporter": "python",
   "pygments_lexer": "ipython3",
   "version": "3.9.16"
  }
 },
 "nbformat": 4,
 "nbformat_minor": 5
}
