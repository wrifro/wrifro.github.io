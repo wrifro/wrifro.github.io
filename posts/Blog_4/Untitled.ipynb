{
 "cells": [
  {
   "cell_type": "code",
   "execution_count": null,
   "id": "140d2259-f595-4c96-b9dd-98a824bda7dc",
   "metadata": {},
   "outputs": [],
   "source": [
    "import numpy as np\n",
    "from matplotlib import pyplot as plt\n",
    "\n",
    "w0 = -0.5\n",
    "w1 =  0.7\n",
    "\n",
    "n = 100\n",
    "x = np.random.rand(n, 1)\n",
    "y = w1*x + w0 + 0.1*np.random.randn(n, 1)\n",
    "\n",
    "plt.scatter(x, y)\n",
    "labels = plt.gca().set(xlabel = \"Feature (x)\", ylabel = \"Target (y)\")"
   ]
  }
 ],
 "metadata": {
  "kernelspec": {
   "display_name": "Python [conda env:ml-0451]",
   "language": "python",
   "name": "conda-env-ml-0451-py"
  },
  "language_info": {
   "codemirror_mode": {
    "name": "ipython",
    "version": 3
   },
   "file_extension": ".py",
   "mimetype": "text/x-python",
   "name": "python",
   "nbconvert_exporter": "python",
   "pygments_lexer": "ipython3",
   "version": "3.9.16"
  }
 },
 "nbformat": 4,
 "nbformat_minor": 5
}
