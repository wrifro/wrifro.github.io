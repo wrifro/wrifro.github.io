{
 "cells": [
  {
   "cell_type": "raw",
   "id": "8aaef672",
   "metadata": {},
   "source": [
    "---\n",
    "title: Intro blog post\n",
    "author: Wright Frost\n",
    "date: '2023-02-16'\n",
    "description: 'Just playing around with markdown and quarto'\n",
    "format: html\n",
    "---"
   ]
  },
  {
   "cell_type": "code",
   "execution_count": null,
   "id": "d9a6c612",
   "metadata": {},
   "outputs": [],
   "source": [
    "# I'm going to add some Python code\n",
    "def addTwoNumbers(num_a, num_b):\n",
    "    sum = num_a + num_b\n",
    "    return sum\n",
    "addTwoNumbers(3,5)"
   ]
  },
  {
   "cell_type": "markdown",
   "id": "5a37aa47",
   "metadata": {},
   "source": [
    "### And now I'll try adding it in markdown:\n",
    "\n",
    "```python\n",
    "def addTwoNumbers(num_a, num_b):\n",
    "    sum = num_a + num_b\n",
    "    return sum\n",
    "addTwoNumbers(3,5)\n",
    "```\n",
    "\n",
    "Let's see if this post works..."
   ]
  }
 ],
 "metadata": {
  "kernelspec": {
   "display_name": "Python [conda env:ml-0451]",
   "language": "python",
   "name": "conda-env-ml-0451-py"
  },
  "language_info": {
   "codemirror_mode": {
    "name": "ipython",
    "version": 3
   },
   "file_extension": ".py",
   "mimetype": "text/x-python",
   "name": "python",
   "nbconvert_exporter": "python",
   "pygments_lexer": "ipython3",
   "version": "3.9.16"
  }
 },
 "nbformat": 4,
 "nbformat_minor": 5
}
